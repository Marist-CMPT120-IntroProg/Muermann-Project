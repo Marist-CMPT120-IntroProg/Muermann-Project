{
 "cells": [
  {
   "cell_type": "markdown",
   "metadata": {},
   "source": [
    "# Welcome to Hannah's Haunted House!\n",
    "## By: Hannah Muermann"
   ]
  },
  {
   "cell_type": "markdown",
   "metadata": {},
   "source": [
    "In Hannah's Haunted House, you will begin in a foyer by the front door. Unfortuantely, it is locked! With no way to escape, you will go on an exciting adventure to gather items, use them to interact with other objects, and get out of the house. But watch out, as the house may be scarier than it first appears...\n",
    "\n",
    "Below is a map of the 11 locations you will travel through in the house. Starting out in the foyer, you can then explore the hallway, the bathroom, the bedroom, the nursery, the home office, the living room, the kitchen, the storage room, the guest room, or the home gym. "
   ]
  },
  {
   "cell_type": "markdown",
   "metadata": {},
   "source": [
    "![MAP](MAP.jpeg)"
   ]
  }
 ],
 "metadata": {
  "kernelspec": {
   "display_name": "Python 3.10.6 64-bit",
   "language": "python",
   "name": "python3"
  },
  "language_info": {
   "name": "python",
   "version": "3.10.6"
  },
  "orig_nbformat": 4,
  "vscode": {
   "interpreter": {
    "hash": "aee8b7b246df8f9039afb4144a1f6fd8d2ca17a180786b69acc140d282b71a49"
   }
  }
 },
 "nbformat": 4,
 "nbformat_minor": 2
}
